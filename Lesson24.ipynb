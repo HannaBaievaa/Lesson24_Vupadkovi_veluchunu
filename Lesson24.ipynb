{
 "cells": [
  {
   "cell_type": "markdown",
   "id": "4b1933f3",
   "metadata": {},
   "source": [
    "**Рішення завдання №1**"
   ]
  },
  {
   "cell_type": "markdown",
   "id": "9a515aec",
   "metadata": {},
   "source": [
    "А- подія, при якій навмання взятий із папки документ виявився із суттєвою похибкою\n",
    "Позначимо через e1 та e2 відповідно заповнення документів економістами.\n",
    "\n",
    "За умовою задачі маємо:m1=40, m2=60: то ж n = 100.\n",
    "Визначимо ймовірності взяти документ першого та другого економістів:\n",
    "    PE = m/n;\n",
    "    Pe1 =40/100=0.4;\n",
    "    Pe2= 60/100=0.6\n",
    "        \n",
    "Маємо за умовою PAe1 = 0.1, PAe2 = 0.2.\n",
    "Обрахуємо ймовірність події А за наступною формулою:\n",
    "    PA=Pe1*PAe1 +Pe2*PAe2"
   ]
  },
  {
   "cell_type": "code",
   "execution_count": 2,
   "id": "8c93a085",
   "metadata": {},
   "outputs": [
    {
     "data": {
      "text/plain": [
       "0.16"
      ]
     },
     "execution_count": 2,
     "metadata": {},
     "output_type": "execute_result"
    }
   ],
   "source": [
    "PAe1 = 0.1\n",
    "PAe2 = 0.2\n",
    "Pe1 = 0.4\n",
    "Pe2 = 0.6\n",
    "PA=Pe1*PAe1 +Pe2*PAe2\n",
    "PA"
   ]
  },
  {
   "cell_type": "markdown",
   "id": "f301a5a6",
   "metadata": {},
   "source": [
    "Розрахуємо ймовірність того, що документ взятий із папки навмання, заповнений першим економістом:\n",
    "    PAe1 = Pe1*PAe1/PA"
   ]
  },
  {
   "cell_type": "code",
   "execution_count": 6,
   "id": "cde1e274",
   "metadata": {},
   "outputs": [
    {
     "data": {
      "text/plain": [
       "0.25000000000000006"
      ]
     },
     "execution_count": 6,
     "metadata": {},
     "output_type": "execute_result"
    }
   ],
   "source": [
    "Pe1 = 0.4\n",
    "PAe1 = 0.1\n",
    "PAe1 = (Pe1*PAe1)/PA\n",
    "PAe1\n"
   ]
  },
  {
   "cell_type": "markdown",
   "id": "b7153c2f",
   "metadata": {},
   "source": [
    "**Рішення завдання №2**\n"
   ]
  },
  {
   "cell_type": "markdown",
   "id": "86877f8c",
   "metadata": {},
   "source": [
    "Обрахуємо математичне сподівання для обох наборів товарів   за формулою: Mx = x*Px;My =y*Py\n",
    "Маємо Х=([1000,1500,2000]);Px=([0.5,0.3,0.2]);Y=([1000,1500,1750]);Py=([0.4,0.4,0.2])"
   ]
  },
  {
   "cell_type": "code",
   "execution_count": 3,
   "id": "29e5a795",
   "metadata": {},
   "outputs": [
    {
     "data": {
      "text/plain": [
       "1350.0"
      ]
     },
     "execution_count": 3,
     "metadata": {},
     "output_type": "execute_result"
    }
   ],
   "source": [
    "Mx=(1000*0.5)+(1500*0.3)+(2000*0.2)\n",
    "Mx"
   ]
  },
  {
   "cell_type": "code",
   "execution_count": 4,
   "id": "19d6bf4b",
   "metadata": {},
   "outputs": [
    {
     "data": {
      "text/plain": [
       "1350.0"
      ]
     },
     "execution_count": 4,
     "metadata": {},
     "output_type": "execute_result"
    }
   ],
   "source": [
    "My=(1000*0.4)+(1500*0.4)+(1750*0.2)\n",
    "My"
   ]
  },
  {
   "cell_type": "markdown",
   "id": "0cb80082",
   "metadata": {},
   "source": [
    "Обрахуємо стандартне відхилення для обох наборів товарів за формулою: SDx=(sum(X **2 *Px) -Mx**2) ** 0.5"
   ]
  },
  {
   "cell_type": "code",
   "execution_count": 7,
   "id": "ab7fdea9",
   "metadata": {},
   "outputs": [
    {
     "data": {
      "text/plain": [
       "390.51248379533274"
      ]
     },
     "execution_count": 7,
     "metadata": {},
     "output_type": "execute_result"
    }
   ],
   "source": [
    "SDx=((1000*1000*0.5)+(1500*1500*0.3)+(2000*2000*0.2)-1350*1350)**0.5\n",
    "SDx"
   ]
  },
  {
   "cell_type": "code",
   "execution_count": 8,
   "id": "f7124222",
   "metadata": {},
   "outputs": [
    {
     "data": {
      "text/plain": [
       "300.0"
      ]
     },
     "execution_count": 8,
     "metadata": {},
     "output_type": "execute_result"
    }
   ],
   "source": [
    "SDy=((1000*1000*0.4)+(1500*1500*0.4)+(1750*1750*0.2)-1350*1350)**0.5\n",
    "SDy"
   ]
  },
  {
   "cell_type": "markdown",
   "id": "5455eb00",
   "metadata": {},
   "source": [
    "Оскільки математичне сподівання однакове для обох наборів товарів,а  стандартне відхилення другого(тобто набору У) менше від першого, то і ризик відповідно для другого буде менший."
   ]
  }
 ],
 "metadata": {
  "kernelspec": {
   "display_name": "Python 3 (ipykernel)",
   "language": "python",
   "name": "python3"
  },
  "language_info": {
   "codemirror_mode": {
    "name": "ipython",
    "version": 3
   },
   "file_extension": ".py",
   "mimetype": "text/x-python",
   "name": "python",
   "nbconvert_exporter": "python",
   "pygments_lexer": "ipython3",
   "version": "3.10.11"
  }
 },
 "nbformat": 4,
 "nbformat_minor": 5
}
